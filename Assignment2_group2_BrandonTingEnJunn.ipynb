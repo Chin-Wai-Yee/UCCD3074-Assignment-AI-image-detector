{
 "cells": [
  {
   "cell_type": "markdown",
   "id": "6517ec26-9f64-4218-b0c3-02cf8bfab1e9",
   "metadata": {},
   "source": [
    "# UCCD3074: Deep Learning for Data Science Group Assignment\n",
    "## Trimester 2025 Feb\n",
    "### Title: <u>Classification of AI-Generated and Real Images using Deep Learning Techniques</u>\n",
    "### Application-based\n",
    "\n",
    "<hr>\n",
    "\n",
    "### Group 2:\n",
    "##### 1. Brandon Ting En Junn (Leader) CS 2101751\n",
    "##### 2. Chin Wai Yee CS 2103370\n",
    "##### 3. Loh Kin Ming CS 2102691\n",
    "\n",
    "### Sections:\n",
    "- [0. Import Libraries](#0.-Import-Libraries)\n",
    "- [1. Data Acquisition](#1.-Data-Acquisition)\n",
    "- [2. Image Preprocessing](#2.-Image-Preprocessing)\n",
    "- [3. Get Pre-Trained EfficientNetB0 Model & Model Fine-Tuning](#3.-Get-Pre-Trained-EfficientNetB0-Model-&-Model-Fine-Tuning)\n",
    "- [4. Model Evaluation](#4.-Model-Evaluation)\n",
    "- [5. Save Model](#5.-Save-Model)\n",
    "\n",
    "### Instructions:\n",
    "- Load this .ipynb file into Kaggle\n",
    "- Run -> Start session\n",
    "- Run -> Run all\n",
    "\n",
    "<i>Note: This will take around 8 hours.</i>"
   ]
  },
  {
   "cell_type": "markdown",
   "id": "d28a5614-6862-4945-8792-173785630c98",
   "metadata": {},
   "source": [
    "## 0. Import Libraries"
   ]
  },
  {
   "cell_type": "code",
   "execution_count": 1,
   "id": "5261cb2d-a8bf-428e-9932-d365a0c86882",
   "metadata": {
    "execution": {
     "iopub.execute_input": "2025-05-03T13:55:15.135401Z",
     "iopub.status.busy": "2025-05-03T13:55:15.134644Z",
     "iopub.status.idle": "2025-05-03T13:55:27.440213Z",
     "shell.execute_reply": "2025-05-03T13:55:27.439681Z",
     "shell.execute_reply.started": "2025-05-03T13:55:15.135364Z"
    }
   },
   "outputs": [],
   "source": [
    "#################################\n",
    "# Coded By: Chin Wai Yee 2103370\n",
    "#################################\n",
    "import kagglehub\n",
    "import os\n",
    "from sklearn.model_selection import train_test_split\n",
    "from torchvision import transforms\n",
    "from torch.utils.data import Dataset, DataLoader\n",
    "\n",
    "#################################\n",
    "# Coded By: Loh Kin Ming 2102691\n",
    "#################################\n",
    "import torch\n",
    "import timm\n",
    "import torch.nn as nn\n",
    "import torch.optim as optim\n",
    "from PIL import Image\n",
    "from tqdm import tqdm\n",
    "\n",
    "#########################################\n",
    "# Coded By: Brandon Ting En Junn 2101751\n",
    "#########################################\n",
    "import numpy as np\n",
    "import seaborn as sns\n",
    "import matplotlib.pyplot as plt\n",
    "from torchvision.models import efficientnet_b0\n",
    "from PIL import Image\n",
    "from sklearn.metrics import confusion_matrix, accuracy_score, precision_score, recall_score, f1_score, precision_recall_curve, roc_auc_score, roc_curve, cohen_kappa_score"
   ]
  },
  {
   "cell_type": "markdown",
   "id": "5aa3d718-aca3-4552-b2f7-bb21be4213c6",
   "metadata": {},
   "source": [
    "## 1. Data Acquisition"
   ]
  },
  {
   "cell_type": "markdown",
   "id": "5c623c91-839d-43eb-9641-f074344882fb",
   "metadata": {},
   "source": [
    "#### 1.1 Import from Kaggle"
   ]
  },
  {
   "cell_type": "code",
   "execution_count": 2,
   "id": "6dc8f811-8896-451b-ac50-5ce87c3054a3",
   "metadata": {
    "execution": {
     "iopub.execute_input": "2025-05-03T13:55:27.441756Z",
     "iopub.status.busy": "2025-05-03T13:55:27.441296Z",
     "iopub.status.idle": "2025-05-03T13:55:27.964819Z",
     "shell.execute_reply": "2025-05-03T13:55:27.964235Z",
     "shell.execute_reply.started": "2025-05-03T13:55:27.441734Z"
    }
   },
   "outputs": [],
   "source": [
    "#################################\n",
    "# Coded By: Chin Wai Yee 2103370\n",
    "#################################\n",
    "# Download latest version\n",
    "path = kagglehub.dataset_download(\"tristanzhang32/ai-generated-images-vs-real-images\")\n",
    "\n",
    "ai_dir = path + \"/train/fake\"\n",
    "real_dir = path + \"/train/real\"\n",
    "\n",
    "# Label 0 = AI-generated, Label 1 = Real\n",
    "ai_data = [(os.path.join(ai_dir, f), 0) for f in os.listdir(ai_dir) if f.endswith(('.png', '.jpg', '.jpeg'))]\n",
    "real_data = [(os.path.join(real_dir, f), 1) for f in os.listdir(real_dir) if f.endswith(('.png', '.jpg', '.jpeg'))]\n",
    "\n",
    "full_data = ai_data + real_data\n",
    "labels = [label for _, label in full_data]"
   ]
  },
  {
   "cell_type": "markdown",
   "id": "a4b97e72-602b-41cb-914d-da45709d2c2a",
   "metadata": {},
   "source": [
    "## 2. Image Preprocessing"
   ]
  },
  {
   "cell_type": "markdown",
   "id": "f65eae3e-8588-43ea-add2-7632b08ae4c0",
   "metadata": {},
   "source": [
    "#### 2.1 Train/Validation/Test Split Datasets"
   ]
  },
  {
   "cell_type": "code",
   "execution_count": 3,
   "id": "6e538bcd-1785-4075-bc5b-1ac2edf183ef",
   "metadata": {
    "execution": {
     "iopub.execute_input": "2025-05-03T13:55:30.862206Z",
     "iopub.status.busy": "2025-05-03T13:55:30.861596Z",
     "iopub.status.idle": "2025-05-03T13:55:30.933465Z",
     "shell.execute_reply": "2025-05-03T13:55:30.932682Z",
     "shell.execute_reply.started": "2025-05-03T13:55:30.862173Z"
    }
   },
   "outputs": [],
   "source": [
    "#################################\n",
    "# Coded By: Chin Wai Yee 2103370\n",
    "#################################\n",
    "# Train/val/test split\n",
    "train_val_data, test_data = train_test_split(full_data, test_size=0.15, stratify=labels, random_state=42)\n",
    "train_data, val_data = train_test_split(train_val_data, test_size=0.15, stratify=[label for _, label in train_val_data], random_state=42)\n",
    "\n",
    "# Custom Dataset\n",
    "class ImagePathDataset(Dataset):\n",
    "    def __init__(self, data, transform=None):\n",
    "        self.data = data\n",
    "        self.transform = transform\n",
    "\n",
    "    def __len__(self):\n",
    "        return len(self.data)\n",
    "\n",
    "    def __getitem__(self, idx):\n",
    "        img_path, label = self.data[idx]\n",
    "        try:\n",
    "            image = Image.open(img_path)\n",
    "    \n",
    "            if image.mode == 'P':\n",
    "                image = image.convert('RGBA')\n",
    "                background = Image.new(\"RGB\", image.size, (255, 255, 255))\n",
    "                image = Image.alpha_composite(background.convert('RGBA'), image).convert('RGB')\n",
    "            else:\n",
    "                image = image.convert('RGB')\n",
    "    \n",
    "            if self.transform:\n",
    "                image = self.transform(image)\n",
    "            return image, label\n",
    "    \n",
    "        except (OSError, IOError) as e:\n",
    "            print(f\"Skipping corrupted image: {img_path} ({str(e)})\")\n",
    "            return self.__getitem__((idx + 1) % len(self.data))  # Try next image"
   ]
  },
  {
   "cell_type": "markdown",
   "id": "5a3a098b-1d51-472e-baf5-c7012980cc62",
   "metadata": {},
   "source": [
    "#### 2.2 Data Augmentation & Data Transformation"
   ]
  },
  {
   "cell_type": "code",
   "execution_count": 4,
   "id": "db7a1eaa-b321-4053-a51b-422d4e6c8cb0",
   "metadata": {
    "execution": {
     "iopub.execute_input": "2025-05-03T13:55:33.246621Z",
     "iopub.status.busy": "2025-05-03T13:55:33.245850Z",
     "iopub.status.idle": "2025-05-03T13:55:33.251834Z",
     "shell.execute_reply": "2025-05-03T13:55:33.251030Z",
     "shell.execute_reply.started": "2025-05-03T13:55:33.246593Z"
    }
   },
   "outputs": [],
   "source": [
    "#################################\n",
    "# Coded By: Chin Wai Yee 2103370\n",
    "#################################\n",
    "# Data Augmentation for training\n",
    "train_transform = transforms.Compose([\n",
    "    transforms.Resize((224, 224)),\n",
    "    transforms.RandomHorizontalFlip(),\n",
    "    transforms.RandomRotation(10),\n",
    "    transforms.ColorJitter(brightness=0.2, contrast=0.2, saturation=0.2, hue=0.1),\n",
    "    transforms.RandomAffine(degrees=0, translate=(0.05, 0.05)),\n",
    "    transforms.ToTensor(),\n",
    "    transforms.Normalize([0.5]*3, [0.5]*3)\n",
    "])\n",
    "\n",
    "# Standard transform for val/test\n",
    "test_transform = transforms.Compose([\n",
    "    transforms.Resize((224, 224)),\n",
    "    transforms.ToTensor(),\n",
    "    transforms.Normalize([0.5]*3, [0.5]*3)\n",
    "])"
   ]
  },
  {
   "cell_type": "markdown",
   "id": "2d18fe7a-eea6-47c2-a1d7-a153b0f15b0e",
   "metadata": {},
   "source": [
    "#### 2.3 Data Loaders"
   ]
  },
  {
   "cell_type": "code",
   "execution_count": 5,
   "id": "5789df6d-40e5-4c04-9345-6a7070c161ef",
   "metadata": {
    "execution": {
     "iopub.execute_input": "2025-05-03T13:55:35.341847Z",
     "iopub.status.busy": "2025-05-03T13:55:35.341581Z",
     "iopub.status.idle": "2025-05-03T13:55:35.346712Z",
     "shell.execute_reply": "2025-05-03T13:55:35.345980Z",
     "shell.execute_reply.started": "2025-05-03T13:55:35.341827Z"
    }
   },
   "outputs": [],
   "source": [
    "#################################\n",
    "# Coded By: Chin Wai Yee 2103370\n",
    "#################################\n",
    "# Create datasets and loaders\n",
    "train_dataset = ImagePathDataset(train_data, transform=train_transform)\n",
    "val_dataset = ImagePathDataset(val_data, transform=test_transform)\n",
    "test_dataset = ImagePathDataset(test_data, transform=test_transform)\n",
    "\n",
    "train_loader = DataLoader(train_dataset, batch_size=32, shuffle=True)\n",
    "val_loader = DataLoader(val_dataset, batch_size=32)\n",
    "test_loader = DataLoader(test_dataset, batch_size=32)"
   ]
  },
  {
   "cell_type": "markdown",
   "id": "c7477f01-f1af-4cdd-ae8d-82bbf5b4b94b",
   "metadata": {},
   "source": [
    "## 3. Get Pre-Trained EfficientNetB0 Model & Model Fine-Tuning"
   ]
  },
  {
   "cell_type": "markdown",
   "id": "73e8717c-c373-44f8-a7a1-9653b3d1ee95",
   "metadata": {},
   "source": [
    "#### 3.1 Model Settings"
   ]
  },
  {
   "cell_type": "code",
   "execution_count": 6,
   "id": "c4f805ee-87ca-4c96-99f4-8936b9f28491",
   "metadata": {
    "execution": {
     "iopub.execute_input": "2025-05-03T13:55:37.399580Z",
     "iopub.status.busy": "2025-05-03T13:55:37.398944Z",
     "iopub.status.idle": "2025-05-03T13:55:38.267180Z",
     "shell.execute_reply": "2025-05-03T13:55:38.266625Z",
     "shell.execute_reply.started": "2025-05-03T13:55:37.399556Z"
    }
   },
   "outputs": [
    {
     "data": {
      "application/vnd.jupyter.widget-view+json": {
       "model_id": "ca466f3fc0d047bbbf61a7265e96d4f1",
       "version_major": 2,
       "version_minor": 0
      },
      "text/plain": [
       "model.safetensors:   0%|          | 0.00/21.4M [00:00<?, ?B/s]"
      ]
     },
     "metadata": {},
     "output_type": "display_data"
    }
   ],
   "source": [
    "#################################\n",
    "# Coded By: Loh Kin Ming 2102691\n",
    "#################################\n",
    "device = \"cuda\" if torch.cuda.is_available() else \"cpu\"\n",
    "\n",
    "model = timm.create_model('efficientnet_b0', pretrained=True, num_classes=2)\n",
    "model = model.to(device)"
   ]
  },
  {
   "cell_type": "code",
   "execution_count": 7,
   "id": "2d33a4fb-e5e2-46c2-b334-0111bdc21c75",
   "metadata": {
    "execution": {
     "iopub.execute_input": "2025-05-03T13:55:42.860975Z",
     "iopub.status.busy": "2025-05-03T13:55:42.860674Z",
     "iopub.status.idle": "2025-05-03T13:55:42.864622Z",
     "shell.execute_reply": "2025-05-03T13:55:42.863797Z",
     "shell.execute_reply.started": "2025-05-03T13:55:42.860954Z"
    }
   },
   "outputs": [],
   "source": [
    "#################################\n",
    "# Coded By: Loh Kin Ming 2102691\n",
    "#################################\n",
    "## To Freeze Layers [for ablation studies, Model (Frozen)]\n",
    "## Uncomment below to run\n",
    "# Freeze all layers\n",
    "# for param in model.parameters():\n",
    "#     param.requires_grad = False\n",
    "\n",
    "# # Unfreeze only the classifier\n",
    "# for param in model.classifier.parameters():\n",
    "#     param.requires_grad = True"
   ]
  },
  {
   "cell_type": "code",
   "execution_count": 8,
   "id": "419a4222-2e59-4e29-95f0-a072b232adbd",
   "metadata": {
    "execution": {
     "iopub.execute_input": "2025-05-03T13:55:45.434826Z",
     "iopub.status.busy": "2025-05-03T13:55:45.434117Z",
     "iopub.status.idle": "2025-05-03T13:55:45.439475Z",
     "shell.execute_reply": "2025-05-03T13:55:45.438793Z",
     "shell.execute_reply.started": "2025-05-03T13:55:45.434802Z"
    }
   },
   "outputs": [],
   "source": [
    "#################################\n",
    "# Coded By: Loh Kin Ming 2102691\n",
    "#################################\n",
    "criterion = nn.CrossEntropyLoss()\n",
    "optimizer = torch.optim.Adam(model.parameters(), lr=1e-4, weight_decay=1e-5)"
   ]
  },
  {
   "cell_type": "markdown",
   "id": "2c8db065-270c-4d9d-8930-d7d9cf262624",
   "metadata": {},
   "source": [
    "#### 3.2 Model Training"
   ]
  },
  {
   "cell_type": "code",
   "execution_count": 9,
   "id": "4069f5ac-2b86-4e59-8947-010f42987cef",
   "metadata": {
    "execution": {
     "iopub.execute_input": "2025-05-03T13:55:46.893076Z",
     "iopub.status.busy": "2025-05-03T13:55:46.892791Z",
     "iopub.status.idle": "2025-05-03T13:55:46.899875Z",
     "shell.execute_reply": "2025-05-03T13:55:46.899140Z",
     "shell.execute_reply.started": "2025-05-03T13:55:46.893054Z"
    }
   },
   "outputs": [],
   "source": [
    "#################################\n",
    "# Coded By: Loh Kin Ming 2102691\n",
    "#################################\n",
    "def train(model, train_loader, val_loader, epochs=10):\n",
    "    for epoch in range(epochs):\n",
    "        model.train()\n",
    "        running_loss = 0\n",
    "        correct, total = 0, 0\n",
    "        \n",
    "        for images, labels in tqdm(train_loader):\n",
    "            images, labels = images.to(device), labels.to(device)\n",
    "            optimizer.zero_grad()\n",
    "            \n",
    "            outputs = model(images)\n",
    "            loss = criterion(outputs, labels)\n",
    "            loss.backward()\n",
    "            optimizer.step()\n",
    "            \n",
    "            running_loss += loss.item()\n",
    "            _, predicted = torch.max(outputs, 1)\n",
    "            correct += (predicted == labels).sum().item()\n",
    "            total += labels.size(0)\n",
    "\n",
    "        acc = correct / total * 100\n",
    "        print(f\"Epoch {epoch+1}: Loss={running_loss:.4f}, Accuracy={acc:.2f}%\")\n",
    "\n",
    "        # Evaluate on validation set\n",
    "        evaluate(model, val_loader, \"Validation\")\n",
    "\n",
    "def evaluate(model, loader, name=\"Test\"):\n",
    "    model.eval()\n",
    "    correct, total = 0, 0\n",
    "    with torch.no_grad():\n",
    "        for images, labels in loader:\n",
    "            images, labels = images.to(device), labels.to(device)\n",
    "            outputs = model(images)\n",
    "            _, predicted = torch.max(outputs, 1)\n",
    "            correct += (predicted == labels).sum().item()\n",
    "            total += labels.size(0)\n",
    "\n",
    "    print(f\"{name} Accuracy: {correct / total * 100:.2f}%\")"
   ]
  },
  {
   "cell_type": "code",
   "execution_count": null,
   "id": "4c4dd2b0-6de5-46ac-88f0-0f97875b7bbb",
   "metadata": {
    "scrolled": true
   },
   "outputs": [
    {
     "name": "stdout",
     "output_type": "stream",
     "text": [
      "  1%|          | 13/1084 [00:51<1:06:05,  3.70s/it]\n",
      "Skipping corrupted image: /kaggle/input/ai-generated-images-vs-real-images/train/real/20964.jpg (image file is truncated (6 bytes not processed))\n",
      " 16%|█▌        | 173/1084 [11:41<58:38,  3.86s/it]  /usr/local/lib/python3.11/dist-packages/PIL/Image.py:3402: DecompressionBombWarning: Image size (161087488 pixels) exceeds limit of 89478485 pixels, could be decompression bomb DOS attack.\n",
      "  warnings.warn(\n",
      " 20%|█▉        | 215/1084 [14:26<55:49,  3.85s/it]  \n",
      "Skipping corrupted image: /kaggle/input/ai-generated-images-vs-real-images/train/fake/12854.jpg (broken data stream when reading image file)\n",
      " 21%|██        | 229/1084 [15:19<58:24,  4.10s/it]/usr/local/lib/python3.11/dist-packages/PIL/Image.py:3402: DecompressionBombWarning: Image size (99991727 pixels) exceeds limit of 89478485 pixels, could be decompression bomb DOS attack.\n",
      "  warnings.warn(\n",
      " 35%|███▍      | 376/1084 [25:06<53:17,  4.52s/it]  /usr/local/lib/python3.11/dist-packages/PIL/Image.py:3402: DecompressionBombWarning: Image size (96012000 pixels) exceeds limit of 89478485 pixels, could be decompression bomb DOS attack.\n",
      "  warnings.warn(\n",
      " 46%|████▌     | 500/1084 [32:53<35:13,  3.62s/it]  \n",
      "Skipping corrupted image: /kaggle/input/ai-generated-images-vs-real-images/train/real/15963.jpg (image file is truncated (2 bytes not processed))\n",
      " 48%|████▊     | 524/1084 [34:29<39:42,  4.25s/it]\n",
      "Skipping corrupted image: /kaggle/input/ai-generated-images-vs-real-images/train/real/12094.jpg (image file is truncated (6 bytes not processed))\n",
      " 64%|██████▍   | 696/1084 [45:46<25:23,  3.93s/it]/usr/local/lib/python3.11/dist-packages/PIL/Image.py:3402: DecompressionBombWarning: Image size (98806617 pixels) exceeds limit of 89478485 pixels, could be decompression bomb DOS attack.\n",
      "  warnings.warn(\n",
      " 90%|████████▉ | 971/1084 [1:03:46<08:44,  4.64s/it]\n",
      "Skipping corrupted image: /kaggle/input/ai-generated-images-vs-real-images/train/real/0038.jpg (image file is truncated (0 bytes not processed))\n",
      " 93%|█████████▎| 1013/1084 [1:06:32<04:09,  3.52s/it]/usr/local/lib/python3.11/dist-packages/PIL/Image.py:3402: DecompressionBombWarning: Image size (98058240 pixels) exceeds limit of 89478485 pixels, could be decompression bomb DOS attack.\n",
      "  warnings.warn(\n",
      "100%|██████████| 1084/1084 [1:11:14<00:00,  3.94s/it]\n",
      "Epoch 1: Loss=670.6706, Accuracy=83.50%\n",
      "/usr/local/lib/python3.11/dist-packages/PIL/Image.py:3402: DecompressionBombWarning: Image size (107184040 pixels) exceeds limit of 89478485 pixels, could be decompression bomb DOS attack.\n",
      "  warnings.warn(\n",
      "Skipping corrupted image: /kaggle/input/ai-generated-images-vs-real-images/train/real/21610.jpg (image file is truncated (1 bytes not processed))\n",
      "Skipping corrupted image: /kaggle/input/ai-generated-images-vs-real-images/train/real/16011.jpg (image file is truncated (4 bytes not processed))\n",
      "Validation Accuracy: 88.69%\n",
      "...\n",
      "Epoch 5: Loss=128.7048, Accuracy=95.59%\n",
      "Skipping corrupted image: /kaggle/input/ai-generated-images-vs-real-images/train/real/21610.jpg (image file is truncated (1 bytes not processed))\n",
      "Skipping corrupted image: /kaggle/input/ai-generated-images-vs-real-images/train/real/16011.jpg (image file is truncated (4 bytes not processed))\n",
      "Validation Accuracy: 93.33%\n",
      "Skipping corrupted image: /kaggle/input/ai-generated-images-vs-real-images/train/real/13021.jpg (image file is truncated (0 bytes not processed))\n",
      "Skipping corrupted image: /kaggle/input/ai-generated-images-vs-real-images/train/fake/8022.jpg (broken data stream when reading image file)\n",
      "/usr/local/lib/python3.11/dist-packages/PIL/Image.py:3402: DecompressionBombWarning: Image size (96000000 pixels) exceeds limit of 89478485 pixels, could be decompression bomb DOS attack.\n",
      "  warnings.warn(\n",
      "/usr/local/lib/python3.11/dist-packages/PIL/Image.py:3402: DecompressionBombWarning: Image size (90671520 pixels) exceeds limit of 89478485 pixels, could be decompression bomb DOS attack.\n",
      "  warnings.warn(\n",
      "Test Accuracy: 93.33%\n"
     ]
    }
   ],
   "source": [
    "#################################\n",
    "# Coded By: Loh Kin Ming 2102691\n",
    "#################################\n",
    "train(model, train_loader, val_loader, epochs=5)\n",
    "torch.save(model, \"model.pth\")\n",
    "evaluate(model, test_loader)"
   ]
  },
  {
   "cell_type": "markdown",
   "id": "40964e4f-760e-4b8f-ba8e-755d7ed3dc0a",
   "metadata": {},
   "source": [
    "## 4. Model Evaluation"
   ]
  },
  {
   "cell_type": "markdown",
   "id": "7d608561-5602-4cd0-953b-304a453c94c7",
   "metadata": {},
   "source": [
    "#### 4.1 Load Model"
   ]
  },
  {
   "cell_type": "code",
   "execution_count": 10,
   "id": "922d6749-1302-424c-8923-187e473c55c8",
   "metadata": {
    "execution": {
     "iopub.execute_input": "2025-05-03T13:55:54.638371Z",
     "iopub.status.busy": "2025-05-03T13:55:54.638049Z",
     "iopub.status.idle": "2025-05-03T13:55:54.917954Z",
     "shell.execute_reply": "2025-05-03T13:55:54.917084Z",
     "shell.execute_reply.started": "2025-05-03T13:55:54.638321Z"
    }
   },
   "outputs": [
    {
     "name": "stderr",
     "output_type": "stream",
     "text": [
      "/tmp/ipykernel_31/2676014556.py:11: FutureWarning: You are using `torch.load` with `weights_only=False` (the current default value), which uses the default pickle module implicitly. It is possible to construct malicious pickle data which will execute arbitrary code during unpickling (See https://github.com/pytorch/pytorch/blob/main/SECURITY.md#untrusted-models for more details). In a future release, the default value for `weights_only` will be flipped to `True`. This limits the functions that could be executed during unpickling. Arbitrary objects will no longer be allowed to be loaded via this mode unless they are explicitly allowlisted by the user via `torch.serialization.add_safe_globals`. We recommend you start setting `weights_only=True` for any use case where you don't have full control of the loaded file. Please open an issue on GitHub for any issues related to this experimental feature.\n",
      "  model = torch.load(\"/kaggle/input/model/pytorch/default/1/model.pth\")\n"
     ]
    }
   ],
   "source": [
    "#########################################\n",
    "# Coded By: Brandon Ting En Junn 2101751\n",
    "#########################################\n",
    "# If running from Model Training, skip this cell\n",
    "\n",
    "# If load model.pth as weights\n",
    "# model = efficientnet_b0()\n",
    "# model.fc = torch.nn.Linear(model1.fc.in_features, 2)\n",
    "# model.load_state_dict(torch.load('/kaggle/input/model/pytorch/default/1/model.pth'))\n",
    "# Else load model.pth as model\n",
    "model = torch.load(\"/kaggle/input/model/pytorch/default/1/model.pth\")"
   ]
  },
  {
   "cell_type": "markdown",
   "id": "6dfb88ed-e570-41aa-a089-adaf0ed3117c",
   "metadata": {},
   "source": [
    "#### 4.2 Evaluate Model"
   ]
  },
  {
   "cell_type": "code",
   "execution_count": 11,
   "id": "2e897efc-1eee-4f91-b8f1-07e383edbf7a",
   "metadata": {
    "execution": {
     "iopub.execute_input": "2025-05-03T13:56:07.254521Z",
     "iopub.status.busy": "2025-05-03T13:56:07.253823Z",
     "iopub.status.idle": "2025-05-03T13:56:07.265483Z",
     "shell.execute_reply": "2025-05-03T13:56:07.264679Z",
     "shell.execute_reply.started": "2025-05-03T13:56:07.254497Z"
    }
   },
   "outputs": [],
   "source": [
    "#########################################\n",
    "# Coded By: Brandon Ting En Junn 2101751\n",
    "#########################################\n",
    "class ModelEvaluator():\n",
    "    '''\n",
    "    This class creates an evaluator that returns the performance metrics on the dataset by the model\n",
    "    Arguments:\n",
    "        - model (torch.nn.Module)                  : The model to be evaluated.\n",
    "        - data_loader (torch.utils.data.DataLoader): The data loader containing the dataset to evaluate the model on.\n",
    "    '''\n",
    "    \n",
    "    def __init__(self, model, data_loader):\n",
    "        '''\n",
    "        Upon initialisation, the model performs inference on the dataset.\n",
    "        '''\n",
    "        \n",
    "        self.model = model\n",
    "        self.device = torch.device(\"cuda\" if torch.cuda.is_available() else \"cpu\")\n",
    "        self.y_true = []\n",
    "        self.y_pred = []\n",
    "        self.y_score = []\n",
    "\n",
    "        self.model.eval()\n",
    "        self.model.to(self.device)\n",
    "\n",
    "        print(\"Running Evaluation...\")\n",
    "        with torch.no_grad():\n",
    "            for inputs, labels in data_loader:\n",
    "                inputs, labels = inputs.to(self.device), labels.to(self.device)\n",
    "\n",
    "                outputs = self.model(inputs)\n",
    "\n",
    "                probits = torch.softmax(outputs, dim=1)\n",
    "\n",
    "                _, pred = torch.max(probits, dim=1)\n",
    "\n",
    "                self.y_true.extend(labels.to(\"cpu\").numpy())\n",
    "                self.y_pred.extend(pred.to(\"cpu\").numpy())\n",
    "                self.y_score.extend(probits[:, 0].to(\"cpu\").numpy())\n",
    "        print(\"Finished Evaluation...\")\n",
    "\n",
    "    def confusion_matrix(self):\n",
    "        '''\n",
    "        Outputs a confusion matrix.\n",
    "        '''\n",
    "        \n",
    "        sns.heatmap(confusion_matrix(self.y_true, self.y_pred), annot=True, fmt=\"d\")\n",
    "        plt.title(\"Confusion Matrix\")\n",
    "        plt.xlabel(\"Predicted\")\n",
    "        plt.ylabel(\"Actual\")\n",
    "        plt.show()\n",
    "\n",
    "    def accuracy(self):\n",
    "        '''\n",
    "        Outputs the accuracy.\n",
    "        '''\n",
    "        \n",
    "        print(f\"Accuracy: {accuracy_score(self.y_true, self.y_pred)}\")\n",
    "\n",
    "    def precision(self):\n",
    "        '''\n",
    "        Outputs the precision.\n",
    "        '''\n",
    "        \n",
    "        print(f\"Precision: {precision_score(self.y_true, self.y_pred, pos_label=0)}\")\n",
    "\n",
    "    def recall(self):\n",
    "        '''\n",
    "        Outputs the recall.\n",
    "        '''\n",
    "        \n",
    "        print(f\"Recall: {recall_score(self.y_true, self.y_pred, pos_label=0)}\")\n",
    "\n",
    "    def f1_score(self):\n",
    "        '''\n",
    "        Outputs the F1-score.\n",
    "        '''\n",
    "        \n",
    "        print(f\"F1-Score: {f1_score(self.y_true, self.y_pred, pos_label=0)}\")\n",
    "\n",
    "    def kappa(self):\n",
    "        '''\n",
    "        Outputs the kappa coefficient.\n",
    "        '''\n",
    "        \n",
    "        print(f\"Kappa Coefficient: {cohen_kappa_score(self.y_true, self.y_pred)}\")\n",
    "\n",
    "    def precision_recall_curve(self):\n",
    "        '''\n",
    "        Outputs the precision-recall curve.\n",
    "        '''\n",
    "        \n",
    "        precision, recall, _ = precision_recall_curve(self.y_true, self.y_score, pos_label=0)\n",
    "        plt.plot(recall, precision, marker='.')\n",
    "        plt.title('Precision-Recall Curve')\n",
    "        plt.xlabel('Recall')\n",
    "        plt.ylabel('Precision')\n",
    "        plt.grid(True)\n",
    "        plt.show()\n",
    "\n",
    "    def auc_roc_curve(self):\n",
    "        '''\n",
    "        Outputs the auc-roc curve.\n",
    "        '''\n",
    "        \n",
    "        fpr, tpr, _ = roc_curve(self.y_true, self.y_score, pos_label=0)\n",
    "        auc_score = roc_auc_score(self.y_true, self.y_score)\n",
    "        auc_score = 1 - auc_score\n",
    "        plt.title('AUC-ROC Curve')\n",
    "        plt.xlabel('False Positive Rate (FPR)')\n",
    "        plt.ylabel('True Positive Rate (TPR)')\n",
    "        plt.plot(fpr, tpr, label=f'AUC = {auc_score:.4f}')\n",
    "        plt.plot([0, 1], [0, 1], linestyle='--')\n",
    "        plt.grid(True)\n",
    "        plt.legend()\n",
    "        plt.show()\n",
    "\n",
    "    def summary(self):\n",
    "        '''\n",
    "        Outputs all of the performance metrics.\n",
    "        '''\n",
    "        \n",
    "        self.confusion_matrix()\n",
    "        self.accuracy()\n",
    "        self.precision()\n",
    "        self.recall()\n",
    "        self.f1_score()\n",
    "        self.kappa()\n",
    "        self.precision_recall_curve()\n",
    "        self.auc_roc_curve()"
   ]
  },
  {
   "cell_type": "code",
   "execution_count": 12,
   "id": "6fd04aaf-2088-4a2c-8e29-b4e5b2db2c7d",
   "metadata": {
    "execution": {
     "iopub.execute_input": "2025-05-03T13:56:12.466915Z",
     "iopub.status.busy": "2025-05-03T13:56:12.466204Z",
     "iopub.status.idle": "2025-05-03T14:09:11.484046Z",
     "shell.execute_reply": "2025-05-03T14:09:11.483217Z",
     "shell.execute_reply.started": "2025-05-03T13:56:12.466893Z"
    }
   },
   "outputs": [
    {
     "name": "stdout",
     "output_type": "stream",
     "text": [
      "Running Evaluation...\n",
      "Skipping corrupted image: /kaggle/input/ai-generated-images-vs-real-images/train/real/13021.jpg (image file is truncated (0 bytes not processed))\n",
      "Skipping corrupted image: /kaggle/input/ai-generated-images-vs-real-images/train/fake/8022.jpg (broken data stream when reading image file)\n"
     ]
    },
    {
     "name": "stderr",
     "output_type": "stream",
     "text": [
      "/usr/local/lib/python3.11/dist-packages/PIL/Image.py:3402: DecompressionBombWarning: Image size (96000000 pixels) exceeds limit of 89478485 pixels, could be decompression bomb DOS attack.\n",
      "  warnings.warn(\n",
      "/usr/local/lib/python3.11/dist-packages/PIL/Image.py:3402: DecompressionBombWarning: Image size (90671520 pixels) exceeds limit of 89478485 pixels, could be decompression bomb DOS attack.\n",
      "  warnings.warn(\n"
     ]
    },
    {
     "name": "stdout",
     "output_type": "stream",
     "text": [
      "Finished Evaluation...\n"
     ]
    },
    {
     "data": {
      "image/png": "[encoded data removed]",
      "text/plain": [
       "<Figure size 640x480 with 2 Axes>"
      ]
     },
     "metadata": {},
     "output_type": "display_data"
    },
    {
     "name": "stdout",
     "output_type": "stream",
     "text": [
      "Accuracy: 0.9333333333333333\n",
      "Precision: 0.9369747899159664\n",
      "Recall: 0.9291666666666667\n",
      "F1-Score: 0.9330543933054394\n",
      "Kappa Coefficient: 0.8666666666666667\n"
     ]
    },
    {
     "data": {
      "image/png": "[encoded data removed]",
      "text/plain": [
       "<Figure size 640x480 with 1 Axes>"
      ]
     },
     "metadata": {},
     "output_type": "display_data"
    },
    {
     "data": {
      "image/png": "[encoded data removed]",
      "text/plain": [
       "<Figure size 640x480 with 1 Axes>"
      ]
     },
     "metadata": {},
     "output_type": "display_data"
    }
   ],
   "source": [
    "#########################################\n",
    "# Coded By: Brandon Ting En Junn 2101751\n",
    "#########################################\n",
    "# Initialise model evaluator\n",
    "model_evaluator = ModelEvaluator(model=model, data_loader=test_loader)\n",
    "\n",
    "# Output evaluation\n",
    "model_evaluator.summary()"
   ]
  },
  {
   "cell_type": "markdown",
   "id": "ac466c78-e8b4-4989-a41c-cba96543605c",
   "metadata": {},
   "source": [
    "## 5. Save Model"
   ]
  },
  {
   "cell_type": "code",
   "execution_count": 13,
   "id": "8299dce6-c719-4a46-92d8-d84100a6d45c",
   "metadata": {
    "execution": {
     "iopub.execute_input": "2025-05-03T14:09:11.485640Z",
     "iopub.status.busy": "2025-05-03T14:09:11.485371Z",
     "iopub.status.idle": "2025-05-03T14:09:11.556338Z",
     "shell.execute_reply": "2025-05-03T14:09:11.555770Z",
     "shell.execute_reply.started": "2025-05-03T14:09:11.485623Z"
    }
   },
   "outputs": [],
   "source": [
    "#########################################\n",
    "# Coded By: Brandon Ting En Junn 2101751\n",
    "#########################################\n",
    "# Save model\n",
    "torch.save(model, \"model.pth\")"
   ]
  },
  {
   "cell_type": "code",
   "execution_count": null,
   "id": "b76598ff-a996-46cd-ad2a-99235ba292fb",
   "metadata": {},
   "outputs": [],
   "source": []
  }
 ],
 "metadata": {
  "kaggle": {
   "accelerator": "gpu",
   "dataSources": [
    {
     "databundleVersionId": 8639143,
     "datasetId": 5070657,
     "sourceId": 8497982,
     "sourceType": "datasetVersion"
    },
    {
     "databundleVersionId": 12132245,
     "modelInstanceId": 307269,
     "sourceId": 371197,
     "sourceType": "modelInstanceVersion"
    }
   ],
   "dockerImageVersionId": 31011,
   "isGpuEnabled": true,
   "isInternetEnabled": true,
   "language": "python",
   "sourceType": "notebook"
  },
  "kernelspec": {
   "display_name": "Python 3 (ipykernel)",
   "language": "python",
   "name": "python3"
  },
  "language_info": {
   "codemirror_mode": {
    "name": "ipython",
    "version": 3
   },
   "file_extension": ".py",
   "mimetype": "text/x-python",
   "name": "python",
   "nbconvert_exporter": "python",
   "pygments_lexer": "ipython3",
   "version": "3.11.9"
  }
 },
 "nbformat": 4,
 "nbformat_minor": 5
}
