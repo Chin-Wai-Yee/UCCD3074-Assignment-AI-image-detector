{
 "cells": [
  {
   "cell_type": "markdown",
   "id": "e9d01543-6a4e-4580-98ab-1f7af89ffd92",
   "metadata": {},
   "source": [
    "# ASSIGNMENT 2"
   ]
  },
  {
   "cell_type": "markdown",
   "id": "d6c43026-8e75-4adf-926b-91259d9ac884",
   "metadata": {},
   "source": [
    "## Chin Wai Yee - Data Preprocessing"
   ]
  },
  {
   "cell_type": "code",
   "execution_count": null,
   "id": "954be7c0-47a5-4536-a9e1-fba74e258534",
   "metadata": {},
   "outputs": [],
   "source": []
  },
  {
   "cell_type": "markdown",
   "id": "6a9b4133-6c70-425b-9a4d-ed9a06e7414e",
   "metadata": {},
   "source": [
    "## Loh Kin Ming - Model, Hyperparameters & Training"
   ]
  },
  {
   "cell_type": "code",
   "execution_count": null,
   "id": "e27df280",
   "metadata": {},
   "outputs": [],
   "source": [
    "#Libraries\n",
    "import kagglehub\n",
    "import os\n",
    "import torch\n",
    "from PIL import Image\n",
    "from sklearn.model_selection import train_test_split\n",
    "from torch.utils.data import Dataset, DataLoader\n",
    "from torchvision import transforms\n",
    "import timm\n",
    "import torch.nn as nn\n",
    "import torch.optim as optim\n",
    "from tqdm import tqdm\n",
    "import matplotlib.pyplot as plt\n",
    "import numpy as np\n",
    "from sklearn.metrics import confusion_matrix, ConfusionMatrixDisplay"
   ]
  },
  {
   "cell_type": "code",
   "execution_count": null,
   "id": "b30ea76b-c0d0-4107-8667-eb6d1e62b19d",
   "metadata": {},
   "outputs": [],
   "source": [
    "device = \"cuda\" if torch.cuda.is_available() else \"cpu\"\n",
    "\n",
    "model = timm.create_model('efficientnet_b0', pretrained=True, num_classes=2)\n",
    "model = model.to(device)"
   ]
  },
  {
   "cell_type": "code",
   "execution_count": null,
   "id": "aa54329a",
   "metadata": {},
   "outputs": [],
   "source": [
    "criterion = nn.CrossEntropyLoss()\n",
    "optimizer = torch.optim.Adam(model.parameters(), lr=1e-4, weight_decay=1e-5)"
   ]
  },
  {
   "cell_type": "code",
   "execution_count": null,
   "id": "2b4c91a3",
   "metadata": {},
   "outputs": [],
   "source": [
    "def train(model, train_loader, val_loader, epochs=10):\n",
    "    for epoch in range(epochs):\n",
    "        model.train()\n",
    "        running_loss = 0\n",
    "        correct, total = 0, 0\n",
    "        \n",
    "        for images, labels in tqdm(train_loader):\n",
    "            images, labels = images.to(device), labels.to(device)\n",
    "            optimizer.zero_grad()\n",
    "            \n",
    "            outputs = model(images)\n",
    "            loss = criterion(outputs, labels)\n",
    "            loss.backward()\n",
    "            optimizer.step()\n",
    "            \n",
    "            running_loss += loss.item()\n",
    "            _, predicted = torch.max(outputs, 1)\n",
    "            correct += (predicted == labels).sum().item()\n",
    "            total += labels.size(0)\n",
    "\n",
    "        acc = correct / total * 100\n",
    "        print(f\"Epoch {epoch+1}: Loss={running_loss:.4f}, Accuracy={acc:.2f}%\")\n",
    "\n",
    "        # Evaluate on validation set\n",
    "        evaluate(model, val_loader, \"Validation\")\n",
    "\n",
    "def evaluate(model, loader, name=\"Test\"):\n",
    "    model.eval()\n",
    "    correct, total = 0, 0\n",
    "    with torch.no_grad():\n",
    "        for images, labels in loader:\n",
    "            images, labels = images.to(device), labels.to(device)\n",
    "            outputs = model(images)\n",
    "            _, predicted = torch.max(outputs, 1)\n",
    "            correct += (predicted == labels).sum().item()\n",
    "            total += labels.size(0)\n",
    "\n",
    "    print(f\"{name} Accuracy: {correct / total * 100:.2f}%\")"
   ]
  },
  {
   "cell_type": "markdown",
   "id": "631099e1-24c0-41ff-b3ac-3d95e5e11afc",
   "metadata": {},
   "source": [
    "## Brandon Ting En Junn - Evaluation & Demo"
   ]
  },
  {
   "cell_type": "code",
   "execution_count": null,
   "id": "274a4980-aa43-4ddc-98f5-4e3e46724765",
   "metadata": {},
   "outputs": [],
   "source": []
  }
 ],
 "metadata": {
  "kernelspec": {
   "display_name": "Python 3 (ipykernel)",
   "language": "python",
   "name": "python3"
  },
  "language_info": {
   "codemirror_mode": {
    "name": "ipython",
    "version": 3
   },
   "file_extension": ".py",
   "mimetype": "text/x-python",
   "name": "python",
   "nbconvert_exporter": "python",
   "pygments_lexer": "ipython3",
   "version": "3.11.9"
  }
 },
 "nbformat": 4,
 "nbformat_minor": 5
}
