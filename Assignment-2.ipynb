{
 "cells": [
  {
   "cell_type": "markdown",
   "id": "e9d01543-6a4e-4580-98ab-1f7af89ffd92",
   "metadata": {},
   "source": [
    "# ASSIGNMENT 2"
   ]
  },
  {
   "cell_type": "markdown",
   "id": "d6c43026-8e75-4adf-926b-91259d9ac884",
   "metadata": {},
   "source": [
    "## Chin Wai Yee - Data Preprocessing"
   ]
  },
  {
   "cell_type": "code",
   "execution_count": null,
   "id": "954be7c0-47a5-4536-a9e1-fba74e258534",
   "metadata": {},
   "outputs": [],
   "source": []
  },
  {
   "cell_type": "markdown",
   "id": "6a9b4133-6c70-425b-9a4d-ed9a06e7414e",
   "metadata": {},
   "source": [
    "## Loh Kin Ming - Model, Hyperparameters & Training"
   ]
  },
  {
   "cell_type": "code",
   "execution_count": null,
   "id": "b30ea76b-c0d0-4107-8667-eb6d1e62b19d",
   "metadata": {},
   "outputs": [],
   "source": []
  },
  {
   "cell_type": "markdown",
   "id": "631099e1-24c0-41ff-b3ac-3d95e5e11afc",
   "metadata": {},
   "source": [
    "## Brandon Ting En Junn - Evaluation & Demo"
   ]
  },
  {
   "cell_type": "code",
   "execution_count": null,
   "id": "274a4980-aa43-4ddc-98f5-4e3e46724765",
   "metadata": {},
   "outputs": [],
   "source": []
  }
 ],
 "metadata": {
  "kernelspec": {
   "display_name": "Python 3 (ipykernel)",
   "language": "python",
   "name": "python3"
  },
  "language_info": {
   "codemirror_mode": {
    "name": "ipython",
    "version": 3
   },
   "file_extension": ".py",
   "mimetype": "text/x-python",
   "name": "python",
   "nbconvert_exporter": "python",
   "pygments_lexer": "ipython3",
   "version": "3.11.9"
  }
 },
 "nbformat": 4,
 "nbformat_minor": 5
}
